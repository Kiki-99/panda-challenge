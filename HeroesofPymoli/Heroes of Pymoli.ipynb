{
 "cells": [
  {
   "cell_type": "code",
   "execution_count": 1,
   "metadata": {},
   "outputs": [],
   "source": [
    "import pandas as pd\n",
    "import os\n",
    "import numpy as np"
   ]
  },
  {
   "cell_type": "code",
   "execution_count": 2,
   "metadata": {},
   "outputs": [],
   "source": [
    "purchase_data = pd.read_csv(\"../Resources/purchase_data.csv\")"
   ]
  },
  {
   "cell_type": "code",
   "execution_count": 3,
   "metadata": {},
   "outputs": [
    {
     "data": {
      "text/html": [
       "<div>\n",
       "<style scoped>\n",
       "    .dataframe tbody tr th:only-of-type {\n",
       "        vertical-align: middle;\n",
       "    }\n",
       "\n",
       "    .dataframe tbody tr th {\n",
       "        vertical-align: top;\n",
       "    }\n",
       "\n",
       "    .dataframe thead th {\n",
       "        text-align: right;\n",
       "    }\n",
       "</style>\n",
       "<table border=\"1\" class=\"dataframe\">\n",
       "  <thead>\n",
       "    <tr style=\"text-align: right;\">\n",
       "      <th></th>\n",
       "      <th>Purchase ID</th>\n",
       "      <th>SN</th>\n",
       "      <th>Age</th>\n",
       "      <th>Gender</th>\n",
       "      <th>Item ID</th>\n",
       "      <th>Item Name</th>\n",
       "      <th>Price</th>\n",
       "    </tr>\n",
       "  </thead>\n",
       "  <tbody>\n",
       "    <tr>\n",
       "      <th>0</th>\n",
       "      <td>0</td>\n",
       "      <td>Lisim78</td>\n",
       "      <td>20</td>\n",
       "      <td>Male</td>\n",
       "      <td>108</td>\n",
       "      <td>Extraction, Quickblade Of Trembling Hands</td>\n",
       "      <td>3.53</td>\n",
       "    </tr>\n",
       "    <tr>\n",
       "      <th>1</th>\n",
       "      <td>1</td>\n",
       "      <td>Lisovynya38</td>\n",
       "      <td>40</td>\n",
       "      <td>Male</td>\n",
       "      <td>143</td>\n",
       "      <td>Frenzied Scimitar</td>\n",
       "      <td>1.56</td>\n",
       "    </tr>\n",
       "    <tr>\n",
       "      <th>2</th>\n",
       "      <td>2</td>\n",
       "      <td>Ithergue48</td>\n",
       "      <td>24</td>\n",
       "      <td>Male</td>\n",
       "      <td>92</td>\n",
       "      <td>Final Critic</td>\n",
       "      <td>4.88</td>\n",
       "    </tr>\n",
       "    <tr>\n",
       "      <th>3</th>\n",
       "      <td>3</td>\n",
       "      <td>Chamassasya86</td>\n",
       "      <td>24</td>\n",
       "      <td>Male</td>\n",
       "      <td>100</td>\n",
       "      <td>Blindscythe</td>\n",
       "      <td>3.27</td>\n",
       "    </tr>\n",
       "    <tr>\n",
       "      <th>4</th>\n",
       "      <td>4</td>\n",
       "      <td>Iskosia90</td>\n",
       "      <td>23</td>\n",
       "      <td>Male</td>\n",
       "      <td>131</td>\n",
       "      <td>Fury</td>\n",
       "      <td>1.44</td>\n",
       "    </tr>\n",
       "    <tr>\n",
       "      <th>5</th>\n",
       "      <td>5</td>\n",
       "      <td>Yalae81</td>\n",
       "      <td>22</td>\n",
       "      <td>Male</td>\n",
       "      <td>81</td>\n",
       "      <td>Dreamkiss</td>\n",
       "      <td>3.61</td>\n",
       "    </tr>\n",
       "    <tr>\n",
       "      <th>6</th>\n",
       "      <td>6</td>\n",
       "      <td>Itheria73</td>\n",
       "      <td>36</td>\n",
       "      <td>Male</td>\n",
       "      <td>169</td>\n",
       "      <td>Interrogator, Blood Blade of the Queen</td>\n",
       "      <td>2.18</td>\n",
       "    </tr>\n",
       "    <tr>\n",
       "      <th>7</th>\n",
       "      <td>7</td>\n",
       "      <td>Iskjaskst81</td>\n",
       "      <td>20</td>\n",
       "      <td>Male</td>\n",
       "      <td>162</td>\n",
       "      <td>Abyssal Shard</td>\n",
       "      <td>2.67</td>\n",
       "    </tr>\n",
       "    <tr>\n",
       "      <th>8</th>\n",
       "      <td>8</td>\n",
       "      <td>Undjask33</td>\n",
       "      <td>22</td>\n",
       "      <td>Male</td>\n",
       "      <td>21</td>\n",
       "      <td>Souleater</td>\n",
       "      <td>1.10</td>\n",
       "    </tr>\n",
       "    <tr>\n",
       "      <th>9</th>\n",
       "      <td>9</td>\n",
       "      <td>Chanosian48</td>\n",
       "      <td>35</td>\n",
       "      <td>Other / Non-Disclosed</td>\n",
       "      <td>136</td>\n",
       "      <td>Ghastly Adamantite Protector</td>\n",
       "      <td>3.58</td>\n",
       "    </tr>\n",
       "  </tbody>\n",
       "</table>\n",
       "</div>"
      ],
      "text/plain": [
       "   Purchase ID             SN  Age                 Gender  Item ID  \\\n",
       "0            0        Lisim78   20                   Male      108   \n",
       "1            1    Lisovynya38   40                   Male      143   \n",
       "2            2     Ithergue48   24                   Male       92   \n",
       "3            3  Chamassasya86   24                   Male      100   \n",
       "4            4      Iskosia90   23                   Male      131   \n",
       "5            5        Yalae81   22                   Male       81   \n",
       "6            6      Itheria73   36                   Male      169   \n",
       "7            7    Iskjaskst81   20                   Male      162   \n",
       "8            8      Undjask33   22                   Male       21   \n",
       "9            9    Chanosian48   35  Other / Non-Disclosed      136   \n",
       "\n",
       "                                   Item Name  Price  \n",
       "0  Extraction, Quickblade Of Trembling Hands   3.53  \n",
       "1                          Frenzied Scimitar   1.56  \n",
       "2                               Final Critic   4.88  \n",
       "3                                Blindscythe   3.27  \n",
       "4                                       Fury   1.44  \n",
       "5                                  Dreamkiss   3.61  \n",
       "6     Interrogator, Blood Blade of the Queen   2.18  \n",
       "7                              Abyssal Shard   2.67  \n",
       "8                                  Souleater   1.10  \n",
       "9               Ghastly Adamantite Protector   3.58  "
      ]
     },
     "execution_count": 3,
     "metadata": {},
     "output_type": "execute_result"
    }
   ],
   "source": [
    "purchase_data.head(10)"
   ]
  },
  {
   "cell_type": "code",
   "execution_count": 4,
   "metadata": {},
   "outputs": [
    {
     "data": {
      "text/html": [
       "<div>\n",
       "<style scoped>\n",
       "    .dataframe tbody tr th:only-of-type {\n",
       "        vertical-align: middle;\n",
       "    }\n",
       "\n",
       "    .dataframe tbody tr th {\n",
       "        vertical-align: top;\n",
       "    }\n",
       "\n",
       "    .dataframe thead th {\n",
       "        text-align: right;\n",
       "    }\n",
       "</style>\n",
       "<table border=\"1\" class=\"dataframe\">\n",
       "  <thead>\n",
       "    <tr style=\"text-align: right;\">\n",
       "      <th></th>\n",
       "      <th>Total Players</th>\n",
       "    </tr>\n",
       "  </thead>\n",
       "  <tbody>\n",
       "    <tr>\n",
       "      <th>SN</th>\n",
       "      <td>576</td>\n",
       "    </tr>\n",
       "  </tbody>\n",
       "</table>\n",
       "</div>"
      ],
      "text/plain": [
       "    Total Players\n",
       "SN            576"
      ]
     },
     "execution_count": 4,
     "metadata": {},
     "output_type": "execute_result"
    }
   ],
   "source": [
    "Players = purchase_data[[\"SN\"]].drop_duplicates().count()\n",
    "Players\n",
    "pd.DataFrame({\"Total Players\": Players})"
   ]
  },
  {
   "cell_type": "code",
   "execution_count": 5,
   "metadata": {},
   "outputs": [
    {
     "data": {
      "text/html": [
       "<div>\n",
       "<style scoped>\n",
       "    .dataframe tbody tr th:only-of-type {\n",
       "        vertical-align: middle;\n",
       "    }\n",
       "\n",
       "    .dataframe tbody tr th {\n",
       "        vertical-align: top;\n",
       "    }\n",
       "\n",
       "    .dataframe thead th {\n",
       "        text-align: right;\n",
       "    }\n",
       "</style>\n",
       "<table border=\"1\" class=\"dataframe\">\n",
       "  <thead>\n",
       "    <tr style=\"text-align: right;\">\n",
       "      <th></th>\n",
       "      <th>Number of Unique Items</th>\n",
       "      <th>Average Price</th>\n",
       "      <th>Number of Purchases</th>\n",
       "      <th>Total Revenue</th>\n",
       "    </tr>\n",
       "  </thead>\n",
       "  <tbody>\n",
       "    <tr>\n",
       "      <th>0</th>\n",
       "      <td>179</td>\n",
       "      <td>3.050987</td>\n",
       "      <td>780</td>\n",
       "      <td>2379.77</td>\n",
       "    </tr>\n",
       "  </tbody>\n",
       "</table>\n",
       "</div>"
      ],
      "text/plain": [
       "   Number of Unique Items  Average Price  Number of Purchases  Total Revenue\n",
       "0                     179       3.050987                  780        2379.77"
      ]
     },
     "execution_count": 5,
     "metadata": {},
     "output_type": "execute_result"
    }
   ],
   "source": [
    "Unique_Items = purchase_data[\"Item Name\"].unique()\n",
    "Number_of_Unique_Items = len(Unique_Items)\n",
    "\n",
    "Average_Price = purchase_data[\"Price\"].mean()\n",
    "Number_Purchase = purchase_data[\"Purchase ID\"].count()\n",
    "Total_Revenue = purchase_data[\"Price\"].sum()\n",
    "\n",
    "pd.DataFrame({\"Number of Unique Items\": [Number_of_Unique_Items], \"Average Price\": [Average_Price], \"Number of Purchases\": [Number_Purchase], \"Total Revenue\": [Total_Revenue]})\n"
   ]
  },
  {
   "cell_type": "code",
   "execution_count": 6,
   "metadata": {},
   "outputs": [
    {
     "data": {
      "text/html": [
       "<style  type=\"text/css\" >\n",
       "</style><table id=\"T_a0c0d39e_011d_11eb_8ea7_1cbfc03240b8\" ><thead>    <tr>        <th class=\"blank level0\" ></th>        <th class=\"col_heading level0 col0\" >Total</th>        <th class=\"col_heading level0 col1\" >Percentage of Players</th>    </tr>    <tr>        <th class=\"index_name level0\" >Gender</th>        <th class=\"blank\" ></th>        <th class=\"blank\" ></th>    </tr></thead><tbody>\n",
       "                <tr>\n",
       "                        <th id=\"T_a0c0d39e_011d_11eb_8ea7_1cbfc03240b8level0_row0\" class=\"row_heading level0 row0\" >Female</th>\n",
       "                        <td id=\"T_a0c0d39e_011d_11eb_8ea7_1cbfc03240b8row0_col0\" class=\"data row0 col0\" >81</td>\n",
       "                        <td id=\"T_a0c0d39e_011d_11eb_8ea7_1cbfc03240b8row0_col1\" class=\"data row0 col1\" >14.06%</td>\n",
       "            </tr>\n",
       "            <tr>\n",
       "                        <th id=\"T_a0c0d39e_011d_11eb_8ea7_1cbfc03240b8level0_row1\" class=\"row_heading level0 row1\" >Male</th>\n",
       "                        <td id=\"T_a0c0d39e_011d_11eb_8ea7_1cbfc03240b8row1_col0\" class=\"data row1 col0\" >484</td>\n",
       "                        <td id=\"T_a0c0d39e_011d_11eb_8ea7_1cbfc03240b8row1_col1\" class=\"data row1 col1\" >84.03%</td>\n",
       "            </tr>\n",
       "            <tr>\n",
       "                        <th id=\"T_a0c0d39e_011d_11eb_8ea7_1cbfc03240b8level0_row2\" class=\"row_heading level0 row2\" >Other / Non-Disclosed</th>\n",
       "                        <td id=\"T_a0c0d39e_011d_11eb_8ea7_1cbfc03240b8row2_col0\" class=\"data row2 col0\" >11</td>\n",
       "                        <td id=\"T_a0c0d39e_011d_11eb_8ea7_1cbfc03240b8row2_col1\" class=\"data row2 col1\" >1.91%</td>\n",
       "            </tr>\n",
       "    </tbody></table>"
      ],
      "text/plain": [
       "<pandas.io.formats.style.Styler at 0x13bfa7464e0>"
      ]
     },
     "execution_count": 6,
     "metadata": {},
     "output_type": "execute_result"
    }
   ],
   "source": [
    "Players_df = purchase_data[[\"Gender\", \"SN\", \"Age\"]].drop_duplicates()\n",
    "Players_df\n",
    "\n",
    "gender_df = Players_df.groupby(\"Gender\").count()[\"SN\"]\n",
    "gender_df\n",
    "\n",
    "gender_totals = Players_df[\"Gender\"].count()\n",
    "gender_totals\n",
    "\n",
    "Demo_per = (gender_df / gender_totals) * 100\n",
    "Demo_per                             \n",
    "\n",
    "genderStats_df = pd.DataFrame({\"Total\": gender_df, \"Percentage of Players\": Demo_per})\n",
    "genderStats_df\n",
    "\n",
    "genderStats_df.style.format({\"Percentage of Players\" : \"{:.2f}%\"})"
   ]
  },
  {
   "cell_type": "code",
   "execution_count": 13,
   "metadata": {},
   "outputs": [
    {
     "data": {
      "text/html": [
       "<style  type=\"text/css\" >\n",
       "</style><table id=\"T_d5062692_011d_11eb_8403_1cbfc03240b8\" ><thead>    <tr>        <th class=\"blank level0\" ></th>        <th class=\"col_heading level0 col0\" >Purchase Count</th>        <th class=\"col_heading level0 col1\" >Average Purchase Price</th>        <th class=\"col_heading level0 col2\" >Total Purchase Value</th>        <th class=\"col_heading level0 col3\" >Avg Total Purchase per Person</th>    </tr>    <tr>        <th class=\"index_name level0\" >Gender</th>        <th class=\"blank\" ></th>        <th class=\"blank\" ></th>        <th class=\"blank\" ></th>        <th class=\"blank\" ></th>    </tr></thead><tbody>\n",
       "                <tr>\n",
       "                        <th id=\"T_d5062692_011d_11eb_8403_1cbfc03240b8level0_row0\" class=\"row_heading level0 row0\" >Female</th>\n",
       "                        <td id=\"T_d5062692_011d_11eb_8403_1cbfc03240b8row0_col0\" class=\"data row0 col0\" >113</td>\n",
       "                        <td id=\"T_d5062692_011d_11eb_8403_1cbfc03240b8row0_col1\" class=\"data row0 col1\" >$3.20</td>\n",
       "                        <td id=\"T_d5062692_011d_11eb_8403_1cbfc03240b8row0_col2\" class=\"data row0 col2\" >$361.94</td>\n",
       "                        <td id=\"T_d5062692_011d_11eb_8403_1cbfc03240b8row0_col3\" class=\"data row0 col3\" >$4.47</td>\n",
       "            </tr>\n",
       "            <tr>\n",
       "                        <th id=\"T_d5062692_011d_11eb_8403_1cbfc03240b8level0_row1\" class=\"row_heading level0 row1\" >Male</th>\n",
       "                        <td id=\"T_d5062692_011d_11eb_8403_1cbfc03240b8row1_col0\" class=\"data row1 col0\" >652</td>\n",
       "                        <td id=\"T_d5062692_011d_11eb_8403_1cbfc03240b8row1_col1\" class=\"data row1 col1\" >$3.02</td>\n",
       "                        <td id=\"T_d5062692_011d_11eb_8403_1cbfc03240b8row1_col2\" class=\"data row1 col2\" >$1,967.64</td>\n",
       "                        <td id=\"T_d5062692_011d_11eb_8403_1cbfc03240b8row1_col3\" class=\"data row1 col3\" >$4.07</td>\n",
       "            </tr>\n",
       "            <tr>\n",
       "                        <th id=\"T_d5062692_011d_11eb_8403_1cbfc03240b8level0_row2\" class=\"row_heading level0 row2\" >Other / Non-Disclosed</th>\n",
       "                        <td id=\"T_d5062692_011d_11eb_8403_1cbfc03240b8row2_col0\" class=\"data row2 col0\" >15</td>\n",
       "                        <td id=\"T_d5062692_011d_11eb_8403_1cbfc03240b8row2_col1\" class=\"data row2 col1\" >$3.35</td>\n",
       "                        <td id=\"T_d5062692_011d_11eb_8403_1cbfc03240b8row2_col2\" class=\"data row2 col2\" >$50.19</td>\n",
       "                        <td id=\"T_d5062692_011d_11eb_8403_1cbfc03240b8row2_col3\" class=\"data row2 col3\" >$4.56</td>\n",
       "            </tr>\n",
       "    </tbody></table>"
      ],
      "text/plain": [
       "<pandas.io.formats.style.Styler at 0x13bfb8664e0>"
      ]
     },
     "execution_count": 13,
     "metadata": {},
     "output_type": "execute_result"
    }
   ],
   "source": [
    "gender_groups = purchase_data.groupby(['Gender'])\n",
    "purchbygender_df = gender_groups.count()[\"Price\"]\n",
    "purchbygender_df\n",
    "\n",
    "spendingbygender = purchase_data.groupby(\"Gender\").sum()[\"Price\"]\n",
    "spendingbygender\n",
    "\n",
    "avg_purch_price = purchase_data.groupby(\"Gender\").mean()[\"Price\"]\n",
    "avg_purch_price\n",
    "\n",
    "total_purch_pp = spendingbygender / gender_df\n",
    "total_purch_pp\n",
    "\n",
    "gender_purch_df = pd.DataFrame({\"Purchase Count\": purchbygender_df, \"Average Purchase Price\": avg_purch_price, \"Total Purchase Value\": spendingbygender, \"Avg Total Purchase per Person\": total_purch_pp})\n",
    "gender_purch_df\n",
    "\n",
    "gender_purch_df.style.format({\"Average Purchase Price\" : \"${:,.2f}\", \"Total Purchase Value\" : \"${:,.2f}\", \"Avg Total Purchase per Person\" : \"${:,.2f}\"})\n"
   ]
  },
  {
   "cell_type": "code",
   "execution_count": 20,
   "metadata": {},
   "outputs": [
    {
     "data": {
      "text/html": [
       "<style  type=\"text/css\" >\n",
       "</style><table id=\"T_1f144d2c_0120_11eb_8810_1cbfc03240b8\" ><thead>    <tr>        <th class=\"blank level0\" ></th>        <th class=\"col_heading level0 col0\" >Purchase Count</th>        <th class=\"col_heading level0 col1\" >Average Purchase Price</th>        <th class=\"col_heading level0 col2\" >Total Purchase Value</th>    </tr>    <tr>        <th class=\"index_name level0\" >SN</th>        <th class=\"blank\" ></th>        <th class=\"blank\" ></th>        <th class=\"blank\" ></th>    </tr></thead><tbody>\n",
       "                <tr>\n",
       "                        <th id=\"T_1f144d2c_0120_11eb_8810_1cbfc03240b8level0_row0\" class=\"row_heading level0 row0\" >Lisosia93</th>\n",
       "                        <td id=\"T_1f144d2c_0120_11eb_8810_1cbfc03240b8row0_col0\" class=\"data row0 col0\" >5</td>\n",
       "                        <td id=\"T_1f144d2c_0120_11eb_8810_1cbfc03240b8row0_col1\" class=\"data row0 col1\" >$3.79</td>\n",
       "                        <td id=\"T_1f144d2c_0120_11eb_8810_1cbfc03240b8row0_col2\" class=\"data row0 col2\" >$18.96</td>\n",
       "            </tr>\n",
       "            <tr>\n",
       "                        <th id=\"T_1f144d2c_0120_11eb_8810_1cbfc03240b8level0_row1\" class=\"row_heading level0 row1\" >Idastidru52</th>\n",
       "                        <td id=\"T_1f144d2c_0120_11eb_8810_1cbfc03240b8row1_col0\" class=\"data row1 col0\" >4</td>\n",
       "                        <td id=\"T_1f144d2c_0120_11eb_8810_1cbfc03240b8row1_col1\" class=\"data row1 col1\" >$3.86</td>\n",
       "                        <td id=\"T_1f144d2c_0120_11eb_8810_1cbfc03240b8row1_col2\" class=\"data row1 col2\" >$15.45</td>\n",
       "            </tr>\n",
       "            <tr>\n",
       "                        <th id=\"T_1f144d2c_0120_11eb_8810_1cbfc03240b8level0_row2\" class=\"row_heading level0 row2\" >Chamjask73</th>\n",
       "                        <td id=\"T_1f144d2c_0120_11eb_8810_1cbfc03240b8row2_col0\" class=\"data row2 col0\" >3</td>\n",
       "                        <td id=\"T_1f144d2c_0120_11eb_8810_1cbfc03240b8row2_col1\" class=\"data row2 col1\" >$4.61</td>\n",
       "                        <td id=\"T_1f144d2c_0120_11eb_8810_1cbfc03240b8row2_col2\" class=\"data row2 col2\" >$13.83</td>\n",
       "            </tr>\n",
       "            <tr>\n",
       "                        <th id=\"T_1f144d2c_0120_11eb_8810_1cbfc03240b8level0_row3\" class=\"row_heading level0 row3\" >Iral74</th>\n",
       "                        <td id=\"T_1f144d2c_0120_11eb_8810_1cbfc03240b8row3_col0\" class=\"data row3 col0\" >4</td>\n",
       "                        <td id=\"T_1f144d2c_0120_11eb_8810_1cbfc03240b8row3_col1\" class=\"data row3 col1\" >$3.40</td>\n",
       "                        <td id=\"T_1f144d2c_0120_11eb_8810_1cbfc03240b8row3_col2\" class=\"data row3 col2\" >$13.62</td>\n",
       "            </tr>\n",
       "            <tr>\n",
       "                        <th id=\"T_1f144d2c_0120_11eb_8810_1cbfc03240b8level0_row4\" class=\"row_heading level0 row4\" >Iskadarya95</th>\n",
       "                        <td id=\"T_1f144d2c_0120_11eb_8810_1cbfc03240b8row4_col0\" class=\"data row4 col0\" >3</td>\n",
       "                        <td id=\"T_1f144d2c_0120_11eb_8810_1cbfc03240b8row4_col1\" class=\"data row4 col1\" >$4.37</td>\n",
       "                        <td id=\"T_1f144d2c_0120_11eb_8810_1cbfc03240b8row4_col2\" class=\"data row4 col2\" >$13.10</td>\n",
       "            </tr>\n",
       "    </tbody></table>"
      ],
      "text/plain": [
       "<pandas.io.formats.style.Styler at 0x13bfa730a90>"
      ]
     },
     "execution_count": 20,
     "metadata": {},
     "output_type": "execute_result"
    }
   ],
   "source": [
    "SN_groups_df = purchase_data.groupby([\"SN\"])\n",
    "SN_groups_df\n",
    "\n",
    "purchase_count = SN_groups.count()[\"Price\"]\n",
    "purchase_count\n",
    "\n",
    "avg_pur_count = SN_groups.mean()[\"Price\"]\n",
    "avg_pur_count\n",
    "\n",
    "total_pur_value = SN_groups.sum()[\"Price\"]\n",
    "total_pur_value\n",
    "\n",
    "pur_analysis = pd.DataFrame({\"Purchase Count\": purchase_count, \"Average Purchase Price\": avg_pur_count, \"Total Purchase Value\": total_pur_value,})\n",
    "\n",
    "pur_analysis_sorted = pur_analysis.sort_values(\"Total Purchase Value\", ascending=False).head()\n",
    "\n",
    "pur_analysis_sorted.style.format({\"Average Purchase Price\" : \"${:,.2f}\", \"Total Purchase Value\" : \"${:,.2f}\"})"
   ]
  },
  {
   "cell_type": "code",
   "execution_count": 60,
   "metadata": {},
   "outputs": [
    {
     "data": {
      "text/html": [
       "<style  type=\"text/css\" >\n",
       "</style><table id=\"T_f42aff2e_0131_11eb_94a7_1cbfc03240b8\" ><thead>    <tr>        <th class=\"blank\" ></th>        <th class=\"blank level0\" ></th>        <th class=\"col_heading level0 col0\" >Purchase Count</th>        <th class=\"col_heading level0 col1\" >Total Purchase Value</th>    </tr></thead><tbody>\n",
       "                <tr>\n",
       "                        <th id=\"T_f42aff2e_0131_11eb_94a7_1cbfc03240b8level0_row0\" class=\"row_heading level0 row0\" >Final Critic</th>\n",
       "                        <th id=\"T_f42aff2e_0131_11eb_94a7_1cbfc03240b8level1_row0\" class=\"row_heading level1 row0\" >92</th>\n",
       "                        <td id=\"T_f42aff2e_0131_11eb_94a7_1cbfc03240b8row0_col0\" class=\"data row0 col0\" >13.000000</td>\n",
       "                        <td id=\"T_f42aff2e_0131_11eb_94a7_1cbfc03240b8row0_col1\" class=\"data row0 col1\" >$nan</td>\n",
       "            </tr>\n",
       "            <tr>\n",
       "                        <th id=\"T_f42aff2e_0131_11eb_94a7_1cbfc03240b8level0_row1\" class=\"row_heading level0 row1\" >Oathbreaker, Last Hope of the Breaking Storm</th>\n",
       "                        <th id=\"T_f42aff2e_0131_11eb_94a7_1cbfc03240b8level1_row1\" class=\"row_heading level1 row1\" >178</th>\n",
       "                        <td id=\"T_f42aff2e_0131_11eb_94a7_1cbfc03240b8row1_col0\" class=\"data row1 col0\" >12.000000</td>\n",
       "                        <td id=\"T_f42aff2e_0131_11eb_94a7_1cbfc03240b8row1_col1\" class=\"data row1 col1\" >$nan</td>\n",
       "            </tr>\n",
       "            <tr>\n",
       "                        <th id=\"T_f42aff2e_0131_11eb_94a7_1cbfc03240b8level0_row2\" class=\"row_heading level0 row2\" >Persuasion</th>\n",
       "                        <th id=\"T_f42aff2e_0131_11eb_94a7_1cbfc03240b8level1_row2\" class=\"row_heading level1 row2\" >132</th>\n",
       "                        <td id=\"T_f42aff2e_0131_11eb_94a7_1cbfc03240b8row2_col0\" class=\"data row2 col0\" >9.000000</td>\n",
       "                        <td id=\"T_f42aff2e_0131_11eb_94a7_1cbfc03240b8row2_col1\" class=\"data row2 col1\" >$nan</td>\n",
       "            </tr>\n",
       "            <tr>\n",
       "                        <th id=\"T_f42aff2e_0131_11eb_94a7_1cbfc03240b8level0_row3\" class=\"row_heading level0 row3\" >Nirvana</th>\n",
       "                        <th id=\"T_f42aff2e_0131_11eb_94a7_1cbfc03240b8level1_row3\" class=\"row_heading level1 row3\" >82</th>\n",
       "                        <td id=\"T_f42aff2e_0131_11eb_94a7_1cbfc03240b8row3_col0\" class=\"data row3 col0\" >9.000000</td>\n",
       "                        <td id=\"T_f42aff2e_0131_11eb_94a7_1cbfc03240b8row3_col1\" class=\"data row3 col1\" >$nan</td>\n",
       "            </tr>\n",
       "            <tr>\n",
       "                        <th id=\"T_f42aff2e_0131_11eb_94a7_1cbfc03240b8level0_row4\" class=\"row_heading level0 row4\" >Extraction, Quickblade Of Trembling Hands</th>\n",
       "                        <th id=\"T_f42aff2e_0131_11eb_94a7_1cbfc03240b8level1_row4\" class=\"row_heading level1 row4\" >108</th>\n",
       "                        <td id=\"T_f42aff2e_0131_11eb_94a7_1cbfc03240b8row4_col0\" class=\"data row4 col0\" >9.000000</td>\n",
       "                        <td id=\"T_f42aff2e_0131_11eb_94a7_1cbfc03240b8row4_col1\" class=\"data row4 col1\" >$nan</td>\n",
       "            </tr>\n",
       "    </tbody></table>"
      ],
      "text/plain": [
       "<pandas.io.formats.style.Styler at 0x13bfbbee710>"
      ]
     },
     "execution_count": 60,
     "metadata": {},
     "output_type": "execute_result"
    }
   ],
   "source": [
    "Items_Purchased_df = purchase_data.groupby([\"Item Name\", \"Item ID\"])\n",
    "Items_Purchased_df\n",
    "\n",
    "purchase_count = Items_Purchased_df.count()[\"Price\"]\n",
    "purchase_count\n",
    "\n",
    "Total_Pur_Value = Items_Purchased_df.sum()[\"Price\"]\n",
    "Total_Pur_Value\n",
    "\n",
    "popular_item_analysis = pd.DataFrame({\"Purchase Count\": purchase_count, \"Total Purchase Value\": total_pur_value})\n",
    "\n",
    "popular_item_analysis_sorted = popular_item_analysis.sort_values(\"Purchase Count\", ascending=False).head()\n",
    "\n",
    "popular_item_analysis_sorted.style.format({\"Total Purchase Value\" : \"${:,.2f}\"})"
   ]
  },
  {
   "cell_type": "code",
   "execution_count": 62,
   "metadata": {},
   "outputs": [
    {
     "ename": "NameError",
     "evalue": "name 'Items_Purchased' is not defined",
     "output_type": "error",
     "traceback": [
      "\u001b[1;31m---------------------------------------------------------------------------\u001b[0m",
      "\u001b[1;31mNameError\u001b[0m                                 Traceback (most recent call last)",
      "\u001b[1;32m<ipython-input-62-68becf42f836>\u001b[0m in \u001b[0;36m<module>\u001b[1;34m\u001b[0m\n\u001b[0;32m      2\u001b[0m \u001b[0mProfit_Items\u001b[0m\u001b[1;33m\u001b[0m\u001b[1;33m\u001b[0m\u001b[0m\n\u001b[0;32m      3\u001b[0m \u001b[1;33m\u001b[0m\u001b[0m\n\u001b[1;32m----> 4\u001b[1;33m \u001b[0mpurchase_count\u001b[0m \u001b[1;33m=\u001b[0m \u001b[0mItems_Purchased\u001b[0m\u001b[1;33m.\u001b[0m\u001b[0mdf\u001b[0m\u001b[1;33m.\u001b[0m\u001b[0mcount\u001b[0m\u001b[1;33m(\u001b[0m\u001b[1;33m)\u001b[0m\u001b[1;33m[\u001b[0m\u001b[1;34m\"Price\"\u001b[0m\u001b[1;33m]\u001b[0m\u001b[1;33m\u001b[0m\u001b[1;33m\u001b[0m\u001b[0m\n\u001b[0m\u001b[0;32m      5\u001b[0m \u001b[0mpurchase_count\u001b[0m\u001b[1;33m\u001b[0m\u001b[1;33m\u001b[0m\u001b[0m\n\u001b[0;32m      6\u001b[0m \u001b[1;33m\u001b[0m\u001b[0m\n",
      "\u001b[1;31mNameError\u001b[0m: name 'Items_Purchased' is not defined"
     ]
    }
   ],
   "source": [
    "Profit_Items = Items_Purchased_df.sum()[\"Price\"]\n",
    "Profit_Items\n",
    "\n",
    "purchase_count = Items_Purchased.df.count()[\"Price\"]\n",
    "purchase_count\n",
    "\n",
    "profitable_item_analy = pd.DataFrame({\"Total Purchase Vaule\": Profit_Items, \"Purchase Count\": purchase_count})\n",
    "\n",
    "profitable_item_analy_sorted = profitable_item_analy.sort_values(\"Total Purchase Value\", ascending=False).head()\n"
   ]
  },
  {
   "cell_type": "code",
   "execution_count": null,
   "metadata": {},
   "outputs": [],
   "source": []
  }
 ],
 "metadata": {
  "kernelspec": {
   "display_name": "Python 3",
   "language": "python",
   "name": "python3"
  },
  "language_info": {
   "codemirror_mode": {
    "name": "ipython",
    "version": 3
   },
   "file_extension": ".py",
   "mimetype": "text/x-python",
   "name": "python",
   "nbconvert_exporter": "python",
   "pygments_lexer": "ipython3",
   "version": "3.6.10"
  }
 },
 "nbformat": 4,
 "nbformat_minor": 4
}
